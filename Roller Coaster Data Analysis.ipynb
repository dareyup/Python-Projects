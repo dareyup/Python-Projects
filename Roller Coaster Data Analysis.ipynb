{
 "cells": [
  {
   "cell_type": "code",
   "execution_count": 198,
   "id": "4d5b2ee5",
   "metadata": {},
   "outputs": [],
   "source": [
    "# import libraries\n",
    "import pandas as pd\n",
    "import numpy as np\n",
    "import seaborn as sns\n",
    "import matplotlib.pyplot as plt"
   ]
  },
  {
   "cell_type": "code",
   "execution_count": 380,
   "id": "27333f3e",
   "metadata": {},
   "outputs": [],
   "source": [
    "# import data\n",
    "url = \"https://raw.githubusercontent.com/kedeisha1/Challenges/main/coaster_db.csv\"\n",
    "coaster_data = pd.read_csv(url)"
   ]
  },
  {
   "cell_type": "markdown",
   "id": "5ec4a07d",
   "metadata": {},
   "source": [
    "# 1. How many columns and rows are in the dataset?"
   ]
  },
  {
   "cell_type": "code",
   "execution_count": 98,
   "id": "4d4c4455",
   "metadata": {},
   "outputs": [
    {
     "name": "stdout",
     "output_type": "stream",
     "text": [
      "There are 1087 and 56 columns.\n"
     ]
    }
   ],
   "source": [
    "print(f\"There are {coaster_data.shape[0]} and {coaster_data.shape[1]} columns.\")"
   ]
  },
  {
   "cell_type": "markdown",
   "id": "e6788233",
   "metadata": {},
   "source": [
    "# 2. Is there any missing data?"
   ]
  },
  {
   "cell_type": "code",
   "execution_count": 99,
   "id": "2cf63227",
   "metadata": {},
   "outputs": [
    {
     "name": "stdout",
     "output_type": "stream",
     "text": [
      "There are 29435 missing data points in this dataset\n"
     ]
    }
   ],
   "source": [
    "print(f\"There are {coaster_data.isna().sum().sum()} missing data points in this dataset\")"
   ]
  },
  {
   "cell_type": "code",
   "execution_count": null,
   "id": "f173bc3f",
   "metadata": {},
   "outputs": [],
   "source": [
    "# Missing data points per column\n",
    "for i in coaster_data.columns:\n",
    "    print(f\"{i}: {coaster_data[i].isna().sum()}\")"
   ]
  },
  {
   "cell_type": "markdown",
   "id": "7894358f",
   "metadata": {},
   "source": [
    "# 3. Display the summary statistics of the numeric columns using the describe method."
   ]
  },
  {
   "cell_type": "code",
   "execution_count": 164,
   "id": "6ba1ebb1",
   "metadata": {},
   "outputs": [],
   "source": [
    "coaster_data.describe(include = np.number)"
   ]
  },
  {
   "cell_type": "markdown",
   "id": "a86d8aea",
   "metadata": {},
   "source": [
    "# 4. Rename the following columns:\n",
    "- coaster_name ➡️ Coaster_Name\n",
    "- year_introduced ➡️ Year_Introduced\n",
    "- opening_date_clean ➡️ Opening_Date\n",
    "- speed_mph ➡️ Speed_mph\n",
    "- height_ft ➡️ Height_ft\n",
    "- Inversions_clean ➡️ Inversions\n",
    "- Gforce_clean ➡️ Gforce"
   ]
  },
  {
   "cell_type": "code",
   "execution_count": 165,
   "id": "4794b2c0",
   "metadata": {},
   "outputs": [],
   "source": [
    "# coaster_data = coaster_data.drop('Inversions', axis = 1)\n",
    "new_cols = {'coaster_name': 'Coaster_Name', \n",
    "           'year_introduced': 'Year_Introduced', \n",
    "           'opening_date_clean': 'Opening_Date', \n",
    "           'speed_mph': 'Speed_mph', \n",
    "           'height_ft': 'Height_ft', \n",
    "           'Inversions_clean': 'Inversions', \n",
    "           'Gforce_clean': 'GForce'}\n",
    "\n",
    "coaster_data = coaster_data.rename(columns = new_cols)"
   ]
  },
  {
   "cell_type": "code",
   "execution_count": 166,
   "id": "af88238d",
   "metadata": {},
   "outputs": [
    {
     "data": {
      "text/plain": [
       "Index(['Coaster_Name', 'Length', 'Speed', 'Location', 'Status', 'Opening date',\n",
       "       'Type', 'Manufacturer', 'Height restriction', 'Model', 'Height',\n",
       "       'Lift/launch system', 'Cost', 'Trains', 'Park section', 'Duration',\n",
       "       'Capacity', 'G-force', 'Designer', 'Max vertical angle', 'Drop',\n",
       "       'Soft opening date', 'Fast Lane available', 'Replaced', 'Track layout',\n",
       "       'Fastrack available', 'Soft opening date.1', 'Closing date', 'Opened',\n",
       "       'Replaced by', 'Website', 'Flash Pass Available',\n",
       "       'Must transfer from wheelchair', 'Theme', 'Single rider line available',\n",
       "       'Restraint Style', 'Flash Pass available', 'Acceleration', 'Restraints',\n",
       "       'Name', 'Year_Introduced', 'latitude', 'longitude', 'Type_Main',\n",
       "       'Opening_Date', 'speed1', 'speed2', 'speed1_value', 'speed1_unit',\n",
       "       'Speed_mph', 'height_value', 'height_unit', 'Height_ft', 'Inversions',\n",
       "       'GForce'],\n",
       "      dtype='object')"
      ]
     },
     "execution_count": 166,
     "metadata": {},
     "output_type": "execute_result"
    }
   ],
   "source": [
    "coaster_data.columns"
   ]
  },
  {
   "cell_type": "markdown",
   "id": "0cf8f500",
   "metadata": {},
   "source": [
    "# 5. Are there any duplicated rows?"
   ]
  },
  {
   "cell_type": "code",
   "execution_count": 103,
   "id": "41367cc3",
   "metadata": {},
   "outputs": [
    {
     "data": {
      "text/plain": [
       "0"
      ]
     },
     "execution_count": 103,
     "metadata": {},
     "output_type": "execute_result"
    }
   ],
   "source": [
    "# Duplicate\n",
    "coaster_data.duplicated().sum()"
   ]
  },
  {
   "cell_type": "markdown",
   "id": "a433071f",
   "metadata": {},
   "source": [
    "# 6. What are the top 3 years with the most roller coasters introduced?"
   ]
  },
  {
   "cell_type": "code",
   "execution_count": 104,
   "id": "77fcf1b6",
   "metadata": {},
   "outputs": [
    {
     "name": "stdout",
     "output_type": "stream",
     "text": [
      "Top 3 Years with most roller coasters introduced\n"
     ]
    },
    {
     "data": {
      "text/plain": [
       "1999    49\n",
       "2000    47\n",
       "1998    32\n",
       "Name: Year_Introduced, dtype: int64"
      ]
     },
     "execution_count": 104,
     "metadata": {},
     "output_type": "execute_result"
    }
   ],
   "source": [
    "# Top 3 years with most roller coasters introduced\n",
    "\n",
    "print(\"Top 3 Years with most roller coasters introduced\")\n",
    "coaster_data['Year_Introduced'].value_counts(ascending = False).nlargest(3) # could use .head(3) as well "
   ]
  },
  {
   "cell_type": "markdown",
   "id": "1a604939",
   "metadata": {},
   "source": [
    "# 7. What is the average speed? Also display a plot to show it’s distribution."
   ]
  },
  {
   "cell_type": "code",
   "execution_count": 105,
   "id": "3422db0a",
   "metadata": {},
   "outputs": [
    {
     "data": {
      "text/plain": [
       "Text(0.5, 0, 'Speed_mph')"
      ]
     },
     "execution_count": 105,
     "metadata": {},
     "output_type": "execute_result"
    },
    {
     "data": {
      "image/png": "[encoded data removed]",
      "text/plain": [
       "<Figure size 432x288 with 1 Axes>"
      ]
     },
     "metadata": {
      "needs_background": "light"
     },
     "output_type": "display_data"
    }
   ],
   "source": [
    "# Average speed\n",
    "round(coaster_data.Speed_mph.mean(), 2)\n",
    "\n",
    "# Display distribution\n",
    "plt.hist(coaster_data.Speed_mph, color = 'chocolate', ec = 'black', bins = 15)\n",
    "plt.title(\"Roller Coaster Speed Distributions\")\n",
    "plt.xlabel(\"Speed_mph\")"
   ]
  },
  {
   "cell_type": "markdown",
   "id": "aa3485fa",
   "metadata": {},
   "source": [
    "# 8. Explore the feature relationships. Are there any positively or negatively correlated relationships?"
   ]
  },
  {
   "cell_type": "code",
   "execution_count": 168,
   "id": "39d45542",
   "metadata": {},
   "outputs": [
    {
     "name": "stdout",
     "output_type": "stream",
     "text": [
      "longitude        latitude          -0.298488\n",
      "speed1_value     latitude          -0.121847\n",
      "height_value     longitude         -0.092764\n",
      "Year_Introduced  latitude          -0.070982\n",
      "GForce           Year_Introduced   -0.066657\n",
      "latitude         Speed_mph         -0.063757\n",
      "Inversions       latitude          -0.014043\n",
      "height_value     latitude          -0.004265\n",
      "latitude         Height_ft          0.011492\n",
      "longitude        GForce             0.016485\n",
      "latitude         GForce             0.042871\n",
      "longitude        Speed_mph          0.051063\n",
      "Inversions       longitude          0.087160\n",
      "height_value     Year_Introduced    0.087687\n",
      "speed1_value     height_value       0.088761\n",
      "Inversions       height_value       0.108199\n",
      "longitude        Height_ft          0.159733\n",
      "Inversions       Height_ft          0.164246\n",
      "Year_Introduced  longitude          0.175913\n",
      "speed1_value     Inversions         0.176105\n",
      "Speed_mph        Year_Introduced    0.204853\n",
      "Year_Introduced  speed1_value       0.210191\n",
      "                 Inversions         0.228758\n",
      "                 Height_ft          0.232150\n",
      "Speed_mph        height_value       0.241461\n",
      "                 Inversions         0.265763\n",
      "longitude        speed1_value       0.301179\n",
      "height_value     GForce             0.337386\n",
      "GForce           Inversions         0.345106\n",
      "                 speed1_value       0.379962\n",
      "Height_ft        GForce             0.475020\n",
      "GForce           Speed_mph          0.489337\n",
      "speed1_value     Height_ft          0.815103\n",
      "Height_ft        Speed_mph          0.829404\n",
      "speed1_value     Speed_mph          0.851667\n",
      "height_value     Height_ft          1.000000\n",
      "Year_Introduced  Year_Introduced    1.000000\n",
      "dtype: float64\n"
     ]
    }
   ],
   "source": [
    "# Correlation of Features\n",
    "print(coaster_data.corr().unstack().sort_values().drop_duplicates())"
   ]
  },
  {
   "cell_type": "code",
   "execution_count": 172,
   "id": "9e70cc63",
   "metadata": {
    "scrolled": false
   },
   "outputs": [
    {
     "data": {
      "image/png": "[encoded data removed]",
      "text/plain": [
       "<Figure size 720x720 with 2 Axes>"
      ]
     },
     "metadata": {
      "needs_background": "light"
     },
     "output_type": "display_data"
    }
   ],
   "source": [
    "# Heatmap of Feature Correlations\n",
    "\n",
    "fig, ax = plt.subplots(figsize = (10, 10))\n",
    "\n",
    "sns.heatmap(coaster_data.corr(), annot = True, fmt = ',.2f',)\n",
    "plt.title(\"Roller Coaster Feature Correlation\")\n",
    "plt.show()"
   ]
  },
  {
   "cell_type": "markdown",
   "id": "365ec295",
   "metadata": {},
   "source": [
    "Height and speed have are highly correlated at 82%. This makes sense as the higher a ride is in the air, the faster it can travel when going downhill. "
   ]
  },
  {
   "cell_type": "markdown",
   "id": "e3fc57bc",
   "metadata": {},
   "source": [
    "# 9. How many different 'Types' are there? Group them by common material"
   ]
  },
  {
   "cell_type": "code",
   "execution_count": 381,
   "id": "27679cba",
   "metadata": {},
   "outputs": [
    {
     "data": {
      "text/plain": [
       "98"
      ]
     },
     "execution_count": 381,
     "metadata": {},
     "output_type": "execute_result"
    }
   ],
   "source": [
    "coaster_data['Type'].nunique() # There are 98 unique types"
   ]
  },
  {
   "cell_type": "code",
   "execution_count": null,
   "id": "7f296b28",
   "metadata": {},
   "outputs": [],
   "source": [
    "coaster_data"
   ]
  },
  {
   "cell_type": "code",
   "execution_count": 383,
   "id": "f4540adf",
   "metadata": {},
   "outputs": [],
   "source": [
    "# The common types are Wood, Steel, and Other \n",
    "# Transform the common types of materials\n",
    "\n",
    "coaster_data.loc[coaster_data['Type'].str.contains('Steel', case = False, na = False), 'Type'] = 'Steel'\n",
    "coaster_data.loc[coaster_data.Type.str.contains('Wood', case = False, na = False), 'Type'] = 'Wood'\n",
    "\n",
    "coaster_data.loc[~coaster_data.Type.isin(['Steel', 'Wood']), 'Type'] = 'Other'"
   ]
  },
  {
   "cell_type": "code",
   "execution_count": 384,
   "id": "c42c2142",
   "metadata": {},
   "outputs": [
    {
     "data": {
      "text/plain": [
       "array(['Wood', 'Other', 'Steel'], dtype=object)"
      ]
     },
     "execution_count": 384,
     "metadata": {},
     "output_type": "execute_result"
    }
   ],
   "source": [
    "coaster_data.Type.unique()"
   ]
  },
  {
   "cell_type": "code",
   "execution_count": 385,
   "id": "2a8a3fdd",
   "metadata": {},
   "outputs": [
    {
     "data": {
      "text/plain": [
       "3"
      ]
     },
     "execution_count": 385,
     "metadata": {},
     "output_type": "execute_result"
    }
   ],
   "source": [
    "coaster_data.Type.nunique()"
   ]
  }
 ],
 "metadata": {
  "kernelspec": {
   "display_name": "Python 3 (ipykernel)",
   "language": "python",
   "name": "python3"
  },
  "language_info": {
   "codemirror_mode": {
    "name": "ipython",
    "version": 3
   },
   "file_extension": ".py",
   "mimetype": "text/x-python",
   "name": "python",
   "nbconvert_exporter": "python",
   "pygments_lexer": "ipython3",
   "version": "3.9.12"
  }
 },
 "nbformat": 4,
 "nbformat_minor": 5
}
